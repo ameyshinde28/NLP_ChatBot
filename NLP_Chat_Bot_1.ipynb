{
  "cells": [
    {
      "cell_type": "markdown",
      "metadata": {
        "id": "view-in-github",
        "colab_type": "text"
      },
      "source": [
        "<a href=\"https://colab.research.google.com/github/ameyshinde28/NLP_ChatBot/blob/main/NLP_Chat_Bot_1.ipynb\" target=\"_parent\"><img src=\"https://colab.research.google.com/assets/colab-badge.svg\" alt=\"Open In Colab\"/></a>"
      ]
    },
    {
      "cell_type": "code",
      "execution_count": null,
      "metadata": {
        "id": "ARq4QIaCByxL"
      },
      "outputs": [],
      "source": [
        "import nltk\n",
        "from nltk.stem.porter import PorterStemmer\n",
        "import numpy as np\n"
      ]
    },
    {
      "cell_type": "code",
      "execution_count": null,
      "metadata": {
        "colab": {
          "base_uri": "https://localhost:8080/"
        },
        "id": "hrKQkpgWCrj9",
        "outputId": "18d7bc67-93c5-4b43-8fca-91795f5c0c5a"
      },
      "outputs": [
        {
          "name": "stderr",
          "output_type": "stream",
          "text": [
            "[nltk_data] Downloading package punkt to /root/nltk_data...\n",
            "[nltk_data]   Package punkt is already up-to-date!\n"
          ]
        },
        {
          "data": {
            "text/plain": [
              "True"
            ]
          },
          "execution_count": 17,
          "metadata": {},
          "output_type": "execute_result"
        }
      ],
      "source": [
        "nltk.download(\"punkt\")"
      ]
    },
    {
      "cell_type": "code",
      "execution_count": null,
      "metadata": {
        "id": "NryzHYsGBv5q"
      },
      "outputs": [],
      "source": [
        "stemmer = PorterStemmer()"
      ]
    },
    {
      "cell_type": "code",
      "execution_count": null,
      "metadata": {
        "colab": {
          "base_uri": "https://localhost:8080/"
        },
        "id": "lMcLZj9dA_HO",
        "outputId": "efebb3e8-0430-4c33-e7c3-1f39765f6c91"
      },
      "outputs": [
        {
          "name": "stdout",
          "output_type": "stream",
          "text": [
            "Overwriting NLP_Chat_Bot/nltk_utils.py\n"
          ]
        }
      ],
      "source": [
        "%%writefile NLP_Chat_Bot/nltk_utils.py\n",
        "\n",
        "import nltk\n",
        "from nltk.stem.porter import PorterStemmer\n",
        "import numpy as np\n",
        "nltk.download(\"punkt\")\n",
        "\n",
        "\n",
        "stemmer = PorterStemmer()\n",
        "\n",
        "def tokenize(sentence):\n",
        "  return nltk.word_tokenize(sentence)\n",
        "\n",
        "def stem(word):\n",
        "  return stemmer.stem(word.lower())\n",
        "\n",
        "def bag_of_words(tokenized_sentence, all_words):\n",
        "  tokenized_sentence = [stem(w) for w in tokenized_sentence]\n",
        "\n",
        "  bag = np.zeros(len(all_words), dtype=np.float32)\n",
        "  for idx, w in enumerate(all_words):\n",
        "    if w in tokenized_sentence:\n",
        "      bag[idx] = 1.0\n",
        "  return bag"
      ]
    },
    {
      "cell_type": "code",
      "execution_count": null,
      "metadata": {
        "colab": {
          "base_uri": "https://localhost:8080/",
          "height": 245
        },
        "id": "7RwH4okNCPsg",
        "outputId": "63859f06-be22-40a5-c3d9-d6d5b98fd29a"
      },
      "outputs": [
        {
          "name": "stdout",
          "output_type": "stream",
          "text": [
            "How long does shipping take?\n"
          ]
        },
        {
          "ename": "NameError",
          "evalue": "name 'tokenize' is not defined",
          "output_type": "error",
          "traceback": [
            "\u001b[0;31m---------------------------------------------------------------------------\u001b[0m",
            "\u001b[0;31mNameError\u001b[0m                                 Traceback (most recent call last)",
            "\u001b[0;32m<ipython-input-20-2c86d1d8d919>\u001b[0m in \u001b[0;36m<cell line: 3>\u001b[0;34m()\u001b[0m\n\u001b[1;32m      1\u001b[0m \u001b[0ma\u001b[0m \u001b[0;34m=\u001b[0m \u001b[0;34m\"How long does shipping take?\"\u001b[0m\u001b[0;34m\u001b[0m\u001b[0;34m\u001b[0m\u001b[0m\n\u001b[1;32m      2\u001b[0m \u001b[0mprint\u001b[0m\u001b[0;34m(\u001b[0m\u001b[0ma\u001b[0m\u001b[0;34m)\u001b[0m\u001b[0;34m\u001b[0m\u001b[0;34m\u001b[0m\u001b[0m\n\u001b[0;32m----> 3\u001b[0;31m \u001b[0ma\u001b[0m \u001b[0;34m=\u001b[0m \u001b[0mtokenize\u001b[0m\u001b[0;34m(\u001b[0m\u001b[0ma\u001b[0m\u001b[0;34m)\u001b[0m\u001b[0;34m\u001b[0m\u001b[0;34m\u001b[0m\u001b[0m\n\u001b[0m\u001b[1;32m      4\u001b[0m \u001b[0mprint\u001b[0m\u001b[0;34m(\u001b[0m\u001b[0ma\u001b[0m\u001b[0;34m)\u001b[0m\u001b[0;34m\u001b[0m\u001b[0;34m\u001b[0m\u001b[0m\n",
            "\u001b[0;31mNameError\u001b[0m: name 'tokenize' is not defined"
          ]
        }
      ],
      "source": [
        "a = \"How long does shipping take?\"\n",
        "print(a)\n",
        "a = tokenize(a)\n",
        "print(a)"
      ]
    },
    {
      "cell_type": "code",
      "execution_count": null,
      "metadata": {
        "id": "ahoqs3V8CXz2"
      },
      "outputs": [],
      "source": [
        "words = [\"organize\", \"organizes\", \"organizing\"]\n",
        "stemmed_words = [stem(w) for w in words]\n",
        "print(stemmed_words)"
      ]
    },
    {
      "cell_type": "markdown",
      "metadata": {
        "id": "jJOm-ncfDmEK"
      },
      "source": [
        "#### Train.py"
      ]
    },
    {
      "cell_type": "code",
      "execution_count": null,
      "metadata": {
        "colab": {
          "base_uri": "https://localhost:8080/"
        },
        "id": "hzf6QHqED9XR",
        "outputId": "193e03b5-0ade-4cb6-99fc-226486f01cc2"
      },
      "outputs": [
        {
          "name": "stdout",
          "output_type": "stream",
          "text": [
            "NLP_Chat_Bot/intents.json already exists, skipping download\n"
          ]
        }
      ],
      "source": [
        "from pickle import TRUE\n",
        "import requests\n",
        "from pathlib import Path\n",
        "\n",
        "nlp_chat_bot_path = Path(\"NLP_Chat_Bot/\")\n",
        "nlp_chat_bot_path.mkdir(parents=True, exist_ok = True)\n",
        "intents_json_path = nlp_chat_bot_path / \"intents.json\"\n",
        "if not intents_json_path.is_file():\n",
        "  with open(intents_json_path, \"wb\") as f:\n",
        "    request = requests.get(\"https://raw.githubusercontent.com/patrickloeber/python-fun/master/chatbot-gui/intents.json\")\n",
        "    print(f\"Downloadning {intents_json_path}....\")\n",
        "    f.write(request.content)\n",
        "else:\n",
        "  print(f\"{intents_json_path} already exists, skipping download\")"
      ]
    },
    {
      "cell_type": "code",
      "execution_count": null,
      "metadata": {
        "colab": {
          "base_uri": "https://localhost:8080/"
        },
        "id": "7IzHkBbcGClZ",
        "outputId": "3530e6ca-af2e-4218-fdcf-a64b9ae0afdb"
      },
      "outputs": [
        {
          "name": "stdout",
          "output_type": "stream",
          "text": [
            "Overwriting NLP_Chat_Bot/train.py\n"
          ]
        }
      ],
      "source": [
        "%%writefile NLP_Chat_Bot/train.py\n",
        "import json\n",
        "from torch.utils.data import Dataset, DataLoader\n",
        "import requests\n",
        "from pathlib import Path\n",
        "from nltk_utils import tokenize, stem, bag_of_words\n",
        "import numpy as np\n",
        "import os\n",
        "from model import NeuralNet\n",
        "import torch\n",
        "import torch.nn as nn\n",
        "\n",
        "nlp_chat_bot_path = Path(\"NLP_Chat_Bot/\")\n",
        "nlp_chat_bot_path.mkdir(parents=True, exist_ok = True)\n",
        "intents_json_path = nlp_chat_bot_path / \"intents.json\"\n",
        "\n",
        "with open(intents_json_path, \"r\") as f:\n",
        "  intents = json.load(f)\n",
        "  # print(intents)\n",
        "\n",
        "\n",
        "all_words = []\n",
        "tags =[]\n",
        "xy = []\n",
        "\n",
        "for intent in intents['intents']:\n",
        "  # print(intent)\n",
        "  tag = intent['tag']\n",
        "  tags.append(tag)\n",
        "\n",
        "  for pattern in intent['patterns']:\n",
        "    w = tokenize(pattern)\n",
        "    all_words.extend(w)\n",
        "    xy.append((w, tag))\n",
        "\n",
        "ignore_words = [\"?\", \"!\", \".\", \",\"]\n",
        "\n",
        "all_words = [stem(w) for w in all_words if w not in ignore_words]\n",
        "all_words = sorted(set(all_words))\n",
        "print(all_words)\n",
        "tags = sorted(set(tags))\n",
        "print(tags)\n",
        "\n",
        "\n",
        "X_train = []\n",
        "y_train= []\n",
        "\n",
        "for (pattern_sentence, tag) in xy:\n",
        "  bag = bag_of_words(pattern_sentence, all_words)\n",
        "  X_train.append(bag)\n",
        "\n",
        "  label = tags.index(tag)\n",
        "  y_train.append(label)\n",
        "\n",
        "X_train = np.array(X_train)\n",
        "y_train = np.array(y_train)\n",
        "\n",
        "\n",
        "class ChatDataset(Dataset):\n",
        "  def  __init__(self):\n",
        "    self.n_samples = len(X_train)\n",
        "    self.x_data = X_train\n",
        "    self.y_data = y_train\n",
        "\n",
        "  def __getitem__(self, index):\n",
        "    return self.x_data[index], self.y_data[index]\n",
        "\n",
        "  def __len__(self):\n",
        "    return self.n_samples\n",
        "\n",
        "#Hyperparameters\n",
        "BATCH_SIZE = 8\n",
        "NUM_WORKERS = os.cpu_count()\n",
        "hidden_size = 8\n",
        "output_size = len(tags)\n",
        "input_size = len(X_train[0])\n",
        "learning_rate = 0.001\n",
        "num_epochs = 1000\n",
        "\n",
        "\n",
        "\n",
        "dataset = ChatDataset()\n",
        "train_dataloader = DataLoader(dataset=dataset,\n",
        "                              batch_size=BATCH_SIZE,\n",
        "                              shuffle=True,\n",
        "                              num_workers=NUM_WORKERS)\n",
        "\n",
        "device = torch.device('cuda' if torch.cuda.is_available() else \"cpu\")\n",
        "model = NeuralNet(input_size, hidden_size, output_size).to(device)\n",
        "\n",
        "\n",
        "#loss and optimizer\n",
        "criterion = nn.CrossEntropyLoss()\n",
        "optimizer = torch.optim.Adam(model.parameters(), lr =learning_rate)\n",
        "\n",
        "for epoch in range(num_epochs):\n",
        "  for (words, labels) in train_dataloader:\n",
        "    words = words.to(device)\n",
        "    labels = labels.to(device)\n",
        "\n",
        "    # forward pass\n",
        "    outputs = model(words).to(device)\n",
        "    loss = criterion(outputs, labels)\n",
        "\n",
        "    # backward and optimizer step\n",
        "    optimizer.zero_grad()\n",
        "    loss.backward()\n",
        "    optimizer.step()\n",
        "\n",
        "  if (epoch+1) % 100 == 0:\n",
        "    print(f\"epoch {epoch+1}/{num_epochs}, loss={loss.item():.4f}\")\n",
        "\n",
        "data = {\n",
        "    \"model_state\": model.state_dict(),\n",
        "    \"input_size\": input_size,\n",
        "    \"output_size\": output_size,\n",
        "    \"hidden_size\": hidden_size,\n",
        "    \"all_words\": all_words,\n",
        "    \"tags\": tags\n",
        "}\n",
        "\n",
        "FILE = 'NLP_Chat_Bot/data.pth'\n",
        "torch.save(data, FILE)\n",
        "\n",
        "print(f\"training complete, file saved to {FILE}\")\n"
      ]
    },
    {
      "cell_type": "markdown",
      "metadata": {
        "id": "VQRb9QOFqz7f"
      },
      "source": [
        "### MODEL"
      ]
    },
    {
      "cell_type": "code",
      "execution_count": null,
      "metadata": {
        "colab": {
          "base_uri": "https://localhost:8080/"
        },
        "id": "zcGnlNZtqz5u",
        "outputId": "fb0ad91d-68a6-4d20-fea0-a46672416b17"
      },
      "outputs": [
        {
          "name": "stdout",
          "output_type": "stream",
          "text": [
            "Overwriting NLP_Chat_Bot/model.py\n"
          ]
        }
      ],
      "source": [
        "%%writefile NLP_Chat_Bot/model.py\n",
        "import torch\n",
        "import torch.nn as nn\n",
        "\n",
        "class NeuralNet(nn.Module):\n",
        "  def __init__(self, input_size, hidden_size, num_classes):\n",
        "    super().__init__()\n",
        "    self.l1 = nn.Linear(input_size, hidden_size)\n",
        "    self.l2 = nn.Linear(hidden_size, hidden_size)\n",
        "    self.l3 = nn.Linear(hidden_size, num_classes)\n",
        "    self.relu = nn.ReLU()\n",
        "\n",
        "  def forward(self, x):\n",
        "    out = self.l1(x)\n",
        "    out = self.relu(out)\n",
        "    out = self.l2(out)\n",
        "    out = self.relu(out)\n",
        "    out = self.l3(out)\n",
        "\n",
        "    return out"
      ]
    },
    {
      "cell_type": "code",
      "execution_count": null,
      "metadata": {
        "colab": {
          "base_uri": "https://localhost:8080/"
        },
        "id": "6ZRFM6NlKrFv",
        "outputId": "ea816809-3e7a-44ed-dfc5-677345a17498"
      },
      "outputs": [
        {
          "name": "stdout",
          "output_type": "stream",
          "text": [
            "[nltk_data] Downloading package punkt to /root/nltk_data...\n",
            "[nltk_data]   Package punkt is already up-to-date!\n",
            "[\"'s\", 'a', 'accept', 'anyon', 'are', 'bye', 'can', 'card', 'cash', 'credit', 'day', 'deliveri', 'do', 'doe', 'funni', 'get', 'good', 'goodby', 'have', 'hello', 'help', 'hey', 'hi', 'how', 'i', 'is', 'item', 'joke', 'kind', 'know', 'later', 'long', 'lot', 'mastercard', 'me', 'my', 'of', 'onli', 'pay', 'paypal', 'see', 'sell', 'ship', 'someth', 'take', 'tell', 'thank', 'that', 'there', 'what', 'when', 'which', 'with', 'you']\n",
            "['delivery', 'funny', 'goodbye', 'greeting', 'items', 'payments', 'thanks']\n",
            "epoch 100/1000, loss=0.3927\n",
            "epoch 200/1000, loss=0.0893\n",
            "epoch 300/1000, loss=0.1611\n",
            "epoch 400/1000, loss=0.0333\n",
            "epoch 500/1000, loss=0.0049\n",
            "epoch 600/1000, loss=0.0020\n",
            "epoch 700/1000, loss=0.0050\n",
            "epoch 800/1000, loss=0.0004\n",
            "epoch 900/1000, loss=0.0003\n",
            "epoch 1000/1000, loss=0.0014\n",
            "training complete, file saved to NLP_Chat_Bot/data.pth\n"
          ]
        }
      ],
      "source": [
        "!python NLP_Chat_Bot/train.py"
      ]
    },
    {
      "cell_type": "code",
      "execution_count": null,
      "metadata": {
        "colab": {
          "base_uri": "https://localhost:8080/"
        },
        "id": "mBRTV__Nft50",
        "outputId": "3a314ff5-b719-4253-f2ab-6a8fa7a4e482"
      },
      "outputs": [
        {
          "name": "stdout",
          "output_type": "stream",
          "text": [
            "Overwriting NLP_Chat_Bot/chat.py\n"
          ]
        }
      ],
      "source": [
        "%%writefile NLP_Chat_Bot/chat.py\n",
        "import random\n",
        "from random import choice\n",
        "import json\n",
        "import json\n",
        "import torch\n",
        "from model import NeuralNet\n",
        "from nltk_utils import bag_of_words, tokenize\n",
        "\n",
        "device = torch.device(\"cuda\" if torch.cuda.is_available() else 'cpu')\n",
        "\n",
        "with open(\"NLP_Chat_Bot/intents.json\", 'r') as f:\n",
        "  intents = json.load(f)\n",
        "\n",
        "FILE = \"NLP_Chat_Bot/data.pth\"\n",
        "data = torch.load(FILE)\n",
        "\n",
        "input_size = data[\"input_size\"]\n",
        "hidden_size = data[\"hidden_size\"]\n",
        "output_size = data[\"output_size\"]\n",
        "all_words = data[\"all_words\"]\n",
        "tags = data[\"tags\"]\n",
        "model_state = data[\"model_state\"]\n",
        "\n",
        "\n",
        "model = NeuralNet(input_size, hidden_size, output_size).to(device)\n",
        "model.load_state_dict(model_state)\n",
        "model.eval()\n",
        "\n",
        "bot_name = \"BOTY\"\n",
        "print(\"Let's chat! type 'quit' to exit\")\n",
        "while True:\n",
        "  sentence = input(\"You: \")\n",
        "  if sentence == \"quit\":\n",
        "    break\n",
        "  else:\n",
        "    sentence = tokenize(sentence)\n",
        "    X = bag_of_words(sentence, all_words)\n",
        "    X = X.reshape(1, X.shape[0])\n",
        "    X = torch.from_numpy(X).to(device)\n",
        "\n",
        "    output= model(X)\n",
        "    _, predicted = torch.max(output, dim=1)\n",
        "    tag = tags[predicted.item()]\n",
        "\n",
        "    probs = torch.softmax(output, dim=1)\n",
        "    prob = probs[0][predicted.item()]\n",
        "\n",
        "    if prob.item() > 0.75:\n",
        "      for intent in intents[\"intents\"]:\n",
        "        if tag == intent[\"tag\"]:\n",
        "          response = random.choice(intent[\"responses\"])\n",
        "          print(f\"{bot_name}: {response}\")"
      ]
    },
    {
      "cell_type": "code",
      "execution_count": null,
      "metadata": {
        "colab": {
          "background_save": true,
          "base_uri": "https://localhost:8080/"
        },
        "id": "_xjzaISQvKa6",
        "outputId": "8857f57d-95ac-4fb9-ab7a-002b787b0d63"
      },
      "outputs": [
        {
          "name": "stdout",
          "output_type": "stream",
          "text": [
            "[nltk_data] Downloading package punkt to /root/nltk_data...\n",
            "[nltk_data]   Package punkt is already up-to-date!\n",
            "Let's chat! type 'quit' to exit\n",
            "You: Hi\n",
            "BOTY: Hello, thanks for visiting\n",
            "You: What do you sell\n",
            "BOTY: We sell coffee and tea\n",
            "You: Time for shipping\n",
            "You: How long takes shipping\n",
            "BOTY: Delivery takes 2-4 days\n",
            "You: "
          ]
        }
      ],
      "source": [
        "!python NLP_Chat_Bot/chat.py"
      ]
    },
    {
      "cell_type": "code",
      "execution_count": null,
      "metadata": {
        "id": "ZKHnadUovSHS"
      },
      "outputs": [],
      "source": []
    }
  ],
  "metadata": {
    "accelerator": "GPU",
    "colab": {
      "gpuType": "T4",
      "provenance": [],
      "authorship_tag": "ABX9TyPzMOp3H3Z1lN90RgExZZgU",
      "include_colab_link": true
    },
    "kernelspec": {
      "display_name": "Python 3",
      "name": "python3"
    },
    "language_info": {
      "name": "python"
    }
  },
  "nbformat": 4,
  "nbformat_minor": 0
}